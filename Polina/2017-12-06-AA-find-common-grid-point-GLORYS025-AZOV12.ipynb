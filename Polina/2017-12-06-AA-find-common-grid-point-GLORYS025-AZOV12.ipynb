{
 "cells": [
  {
   "cell_type": "markdown",
   "metadata": {},
   "source": [
    "### First we have to determine the AZOV domain inside GLORYS corse grid, for that we have to find the indexes with which we will cut GLORYS\n",
    "### We will find these indexes by finding the common grid point between GLORYS025 and AZOV12"
   ]
  },
  {
   "cell_type": "code",
   "execution_count": 34,
   "metadata": {
    "collapsed": true
   },
   "outputs": [],
   "source": [
    "## imports\n",
    "\n",
    "import numpy as np\n",
    "import xarray as xr\n",
    "from netCDF4 import Dataset\n",
    "\n",
    "%matplotlib inline"
   ]
  },
  {
   "cell_type": "code",
   "execution_count": 35,
   "metadata": {
    "collapsed": false
   },
   "outputs": [],
   "source": [
    "## datasets\n",
    "\n",
    "#AZOV12\n",
    "coord_azov=\"/media/extra/DATA/coordinates_AZOV12.nc\"\n",
    "\n",
    "#GLORYS\n",
    "\n",
    "glorys=\"/media/extra/DATA/GLORYS/GLORYS2V4_ORCA025_201001_gridT.nc\"\n"
   ]
  },
  {
   "cell_type": "code",
   "execution_count": 36,
   "metadata": {
    "collapsed": false
   },
   "outputs": [],
   "source": [
    "dscoAZ=xr.open_dataset(coord_azov,decode_times=False)\n",
    "dsglo=xr.open_dataset(glorys)\n",
    "\n",
    "latAZ=dscoAZ.gphit\n",
    "lonAZ=dscoAZ.glamt\n",
    "\n",
    "latGLO=dsglo.nav_lat\n",
    "lonGLO=dsglo.nav_lon\n"
   ]
  },
  {
   "cell_type": "code",
   "execution_count": 37,
   "metadata": {
    "collapsed": false
   },
   "outputs": [
    {
     "data": {
      "text/plain": [
       "(1, 1, 223, 215)"
      ]
     },
     "execution_count": 37,
     "metadata": {},
     "output_type": "execute_result"
    }
   ],
   "source": [
    "latAZ.shape"
   ]
  },
  {
   "cell_type": "markdown",
   "metadata": {},
   "source": [
    "### We have to find inside GLORYS grid the common point with AZOV grid. Since AZOV's resolution is 3x higher than GLORYS this common point must in the first 3x3 square of AZOV"
   ]
  },
  {
   "cell_type": "code",
   "execution_count": 38,
   "metadata": {
    "collapsed": false
   },
   "outputs": [
    {
     "name": "stdout",
     "output_type": "stream",
     "text": [
      "<xarray.DataArray 'gphit' (y: 3, x: 3)>\n",
      "array([[ 39.943066,  39.939525,  39.935982],\n",
      "       [ 39.996226,  39.992655,  39.989081],\n",
      "       [ 40.049299,  40.045697,  40.042094]])\n",
      "Coordinates:\n",
      "    time     float32 0.0\n",
      "Dimensions without coordinates: y, x\n"
     ]
    }
   ],
   "source": [
    "latAZcoin=latAZ[0,0,0:3,0:3]\n",
    "print latAZcoin"
   ]
  },
  {
   "cell_type": "code",
   "execution_count": 39,
   "metadata": {
    "collapsed": false
   },
   "outputs": [
    {
     "name": "stdout",
     "output_type": "stream",
     "text": [
      "<xarray.DataArray 'glamt' (y: 3, x: 3)>\n",
      "array([[ 25.651459,  25.734657,  25.817852],\n",
      "       [ 25.655329,  25.738524,  25.821717],\n",
      "       [ 25.659231,  25.742424,  25.825614]])\n",
      "Coordinates:\n",
      "    time     float32 0.0\n",
      "Dimensions without coordinates: y, x\n"
     ]
    }
   ],
   "source": [
    "lonAZcoin=lonAZ[0,0,0:3,0:3]\n",
    "print lonAZcoin"
   ]
  },
  {
   "cell_type": "markdown",
   "metadata": {},
   "source": [
    "### For these 9 grid points we are looking in GLORYS if there is an exact match"
   ]
  },
  {
   "cell_type": "code",
   "execution_count": 40,
   "metadata": {
    "collapsed": false,
    "scrolled": true
   },
   "outputs": [
    {
     "name": "stdout",
     "output_type": "stream",
     "text": [
      "0 0 25.6514591641 39.9430656904\n",
      "[] []\n",
      "0 1 25.7346565341 39.9395245682\n",
      "[] []\n",
      "0 2 25.8178520203 39.9359817505\n",
      "[679] [1251]\n",
      "1 0 25.6553290524 39.9962264737\n",
      "[] []\n",
      "1 1 25.7385243423 39.9926546344\n",
      "[] []\n",
      "1 2 25.821717274 39.9890812532\n",
      "[] []\n",
      "2 0 25.659230749 40.0492990834\n",
      "[] []\n",
      "2 1 25.742423717 40.0456968714\n",
      "[] []\n",
      "2 2 25.8256139873 40.0420939128\n",
      "[] []\n"
     ]
    }
   ],
   "source": [
    "for i in np.arange(0,3):\n",
    "    for j in np.arange(0,3):\n",
    "        print i,j,lonAZcoin[i,j].values,latAZcoin[i,j].values\n",
    "        indBOX=np.where((lonGLO==lonAZcoin[i,j])&(latGLO==latAZcoin[i,j]))\n",
    "        print indBOX[0], indBOX[1]"
   ]
  },
  {
   "cell_type": "markdown",
   "metadata": {},
   "source": [
    "### The only time the index are found is for i=0 and j=2, let's check out"
   ]
  },
  {
   "cell_type": "code",
   "execution_count": 41,
   "metadata": {
    "collapsed": false
   },
   "outputs": [
    {
     "name": "stdout",
     "output_type": "stream",
     "text": [
      "25.8178520203 39.9359817505\n",
      "25.8178520203 39.9359817505\n"
     ]
    }
   ],
   "source": [
    "print lonAZcoin[0,2].values,latAZcoin[0,2].values\n",
    "print lonGLO[679,1251].values,latGLO[679,1251].values\n"
   ]
  },
  {
   "cell_type": "markdown",
   "metadata": {},
   "source": [
    "### So 679,1251 is the bottom left corner of GLORYS that matches the bottom left corner of AZOV\n",
    "### To get the coordinates of the top right corner we must consider the size of AZOV domain which is 215x223 so for GLORYS which is 3x coarser. So we must have a domain that is 72x75\n",
    "### So now you can extract AZOV025 from GLORYS with the command ncks -F -d x,1251,1323 -d y,680,754 (in python x and y are reversed and start at 0, and since the corresponding point in AZOV12 is the second we have to take one more on x)"
   ]
  },
  {
   "cell_type": "markdown",
   "metadata": {},
   "source": [
    "### The domain will be a bit larger but it is okay if you build the weights accordingly\n",
    "\n",
    "### It will also be useful to know these coordinates in case you want to build some bdy, you will have first to duplicate the bathymetry from GLORYS to AZOV12 at the boundaries considered (here bottom & left) in order to have continuity"
   ]
  },
  {
   "cell_type": "markdown",
   "metadata": {},
   "source": [
    "### Now that you have your own AZYS025 domain we can construct your own pseudo coordinates based on the size of this domain and the fact that AZOV12 is 3x higher in resolution"
   ]
  },
  {
   "cell_type": "markdown",
   "metadata": {},
   "source": [
    "### I'm going to use the structure of the coordinates files and replace the real latitude and longitude by false regular latitudes and longitudes"
   ]
  },
  {
   "cell_type": "code",
   "execution_count": 42,
   "metadata": {
    "collapsed": true
   },
   "outputs": [],
   "source": [
    "!cp /media/extra/DATA/coordinates_AZOV12.nc /media/extra/DATA/pseudo_coordinates_AZOV12.nc\n",
    "!ncks -F -d x,1251,1323 -d y,680,754 -v nav_lat,nav_lon /media/extra/DATA/GLORYS/GLORYS2V4_ORCA025_201001_gridT.nc /media/extra/DATA/GLORYS/pseudo-coordinates-AZYS025.nc\n"
   ]
  },
  {
   "cell_type": "code",
   "execution_count": null,
   "metadata": {
    "collapsed": true
   },
   "outputs": [],
   "source": []
  }
 ],
 "metadata": {
  "kernelspec": {
   "display_name": "Python [Root]",
   "language": "python",
   "name": "Python [Root]"
  },
  "language_info": {
   "codemirror_mode": {
    "name": "ipython",
    "version": 2
   },
   "file_extension": ".py",
   "mimetype": "text/x-python",
   "name": "python",
   "nbconvert_exporter": "python",
   "pygments_lexer": "ipython2",
   "version": "2.7.11"
  }
 },
 "nbformat": 4,
 "nbformat_minor": 0
}
